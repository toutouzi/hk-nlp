{
 "cells": [
  {
   "cell_type": "code",
   "execution_count": 30,
   "metadata": {},
   "outputs": [],
   "source": [
    "import requests, os\n",
    "\n",
    "def translate(text, src_lang='auto', to_lang='zh-CN'):\n",
    "    '''\n",
    "    Google翻译\n",
    "    '''\n",
    "    googleapis_url = 'https://translate.googleapis.com/translate_a/single'\n",
    "    params = {\n",
    "        'client': 'gtx',\n",
    "        'sl': src_lang,\n",
    "        'tl': to_lang,\n",
    "        'dt': 't',\n",
    "        'q': text\n",
    "    }\n",
    "\n",
    "    try:\n",
    "        data = requests.get(googleapis_url, params=params)\n",
    "        if data.status_code == 200:\n",
    "            data = data.json()\n",
    "            translations = [s[0] for s in data[0] if s[0]]\n",
    "            return ' '.join(translations)\n",
    "        else:\n",
    "            return f'Error: {data.status_code}'\n",
    "    except requests.RequestException as e:\n",
    "        return f'Request Exception: {e}'\n",
    "    except ValueError as e:\n",
    "        return f'ValueError: {e}'"
   ]
  },
  {
   "cell_type": "code",
   "execution_count": 3,
   "metadata": {},
   "outputs": [],
   "source": [
    "import numpy as np\n",
    "import pandas as pd\n",
    "from datetime import datetime"
   ]
  },
  {
   "cell_type": "code",
   "execution_count": 4,
   "metadata": {},
   "outputs": [],
   "source": [
    "to_be_tran = pd.read_parquet('./wmj_jobtitle_translated_51946844.parquet')\n",
    "save_path = './output'"
   ]
  },
  {
   "cell_type": "code",
   "execution_count": 5,
   "metadata": {},
   "outputs": [
    {
     "name": "stderr",
     "output_type": "stream",
     "text": [
      "<ipython-input-5-6e22112bc9d1>:1: DtypeWarning: Columns (1) have mixed types. Specify dtype option on import or set low_memory=False.\n",
      "  to_be_tran1 = pd.read_csv('./nolb_skill_history_all_20230929_translate_13580161.csv')\n"
     ]
    }
   ],
   "source": [
    "to_be_tran1 = pd.read_csv('./nolb_skill_history_all_20230929_translate_13580161.csv')"
   ]
  },
  {
   "cell_type": "code",
   "execution_count": 6,
   "metadata": {},
   "outputs": [
    {
     "data": {
      "text/html": [
       "<div>\n",
       "<style scoped>\n",
       "    .dataframe tbody tr th:only-of-type {\n",
       "        vertical-align: middle;\n",
       "    }\n",
       "\n",
       "    .dataframe tbody tr th {\n",
       "        vertical-align: top;\n",
       "    }\n",
       "\n",
       "    .dataframe thead th {\n",
       "        text-align: right;\n",
       "    }\n",
       "</style>\n",
       "<table border=\"1\" class=\"dataframe\">\n",
       "  <thead>\n",
       "    <tr style=\"text-align: right;\">\n",
       "      <th></th>\n",
       "      <th>Unnamed: 0.1</th>\n",
       "      <th>Unnamed: 0</th>\n",
       "      <th>skill_raw</th>\n",
       "      <th>skill_raw_lang_id</th>\n",
       "      <th>skill_raw_lang_prob</th>\n",
       "      <th>skill_nob</th>\n",
       "    </tr>\n",
       "  </thead>\n",
       "  <tbody>\n",
       "    <tr>\n",
       "      <th>0</th>\n",
       "      <td>0</td>\n",
       "      <td>1</td>\n",
       "      <td>sql</td>\n",
       "      <td>5.0</td>\n",
       "      <td>0.317322</td>\n",
       "      <td>45013088.0</td>\n",
       "    </tr>\n",
       "    <tr>\n",
       "      <th>1</th>\n",
       "      <td>1</td>\n",
       "      <td>5</td>\n",
       "      <td>porsche</td>\n",
       "      <td>2.0</td>\n",
       "      <td>0.244675</td>\n",
       "      <td>13899.0</td>\n",
       "    </tr>\n",
       "    <tr>\n",
       "      <th>2</th>\n",
       "      <td>2</td>\n",
       "      <td>7</td>\n",
       "      <td>oracle</td>\n",
       "      <td>3.0</td>\n",
       "      <td>0.375682</td>\n",
       "      <td>14487515.0</td>\n",
       "    </tr>\n",
       "    <tr>\n",
       "      <th>3</th>\n",
       "      <td>3</td>\n",
       "      <td>8</td>\n",
       "      <td>editorial</td>\n",
       "      <td>6.0</td>\n",
       "      <td>0.699550</td>\n",
       "      <td>5984681.0</td>\n",
       "    </tr>\n",
       "    <tr>\n",
       "      <th>4</th>\n",
       "      <td>4</td>\n",
       "      <td>14</td>\n",
       "      <td>linux</td>\n",
       "      <td>6.0</td>\n",
       "      <td>0.364880</td>\n",
       "      <td>25225416.0</td>\n",
       "    </tr>\n",
       "  </tbody>\n",
       "</table>\n",
       "</div>"
      ],
      "text/plain": [
       "   Unnamed: 0.1 Unnamed: 0  skill_raw  skill_raw_lang_id  skill_raw_lang_prob  \\\n",
       "0             0          1        sql                5.0             0.317322   \n",
       "1             1          5    porsche                2.0             0.244675   \n",
       "2             2          7     oracle                3.0             0.375682   \n",
       "3             3          8  editorial                6.0             0.699550   \n",
       "4             4         14      linux                6.0             0.364880   \n",
       "\n",
       "    skill_nob  \n",
       "0  45013088.0  \n",
       "1     13899.0  \n",
       "2  14487515.0  \n",
       "3   5984681.0  \n",
       "4  25225416.0  "
      ]
     },
     "execution_count": 6,
     "metadata": {},
     "output_type": "execute_result"
    }
   ],
   "source": [
    "to_be_tran1.head()"
   ]
  },
  {
   "cell_type": "code",
   "execution_count": 13,
   "metadata": {},
   "outputs": [],
   "source": [
    "file1 = to_be_tran.head()\n",
    "file2 = to_be_tran1.head()\n",
    "selected_cols_file1 = file1[['jobtitle', 'jobtitle_nob']]\n",
    "selected_cols_file1 = selected_cols_file1.rename(columns={'jobtitle': 'A', 'jobtitle_nob': 'B'})\n",
    "selected_cols_file2 = file2[['skill_raw', 'skill_nob']]\n",
    "selected_cols_file2 = selected_cols_file2.rename(columns={'skill_raw': 'A', 'skill_nob': 'B'})\n"
   ]
  },
  {
   "cell_type": "code",
   "execution_count": 25,
   "metadata": {},
   "outputs": [
    {
     "data": {
      "text/html": [
       "<div>\n",
       "<style scoped>\n",
       "    .dataframe tbody tr th:only-of-type {\n",
       "        vertical-align: middle;\n",
       "    }\n",
       "\n",
       "    .dataframe tbody tr th {\n",
       "        vertical-align: top;\n",
       "    }\n",
       "\n",
       "    .dataframe thead th {\n",
       "        text-align: right;\n",
       "    }\n",
       "</style>\n",
       "<table border=\"1\" class=\"dataframe\">\n",
       "  <thead>\n",
       "    <tr style=\"text-align: right;\">\n",
       "      <th></th>\n",
       "      <th>A</th>\n",
       "      <th>B</th>\n",
       "    </tr>\n",
       "  </thead>\n",
       "  <tbody>\n",
       "    <tr>\n",
       "      <th>0</th>\n",
       "      <td>PROMOTORA</td>\n",
       "      <td>2602.0</td>\n",
       "    </tr>\n",
       "    <tr>\n",
       "      <th>1</th>\n",
       "      <td>Becario</td>\n",
       "      <td>100801.0</td>\n",
       "    </tr>\n",
       "    <tr>\n",
       "      <th>2</th>\n",
       "      <td>Docente</td>\n",
       "      <td>541248.0</td>\n",
       "    </tr>\n",
       "    <tr>\n",
       "      <th>3</th>\n",
       "      <td>Editorial Intern</td>\n",
       "      <td>93185.0</td>\n",
       "    </tr>\n",
       "    <tr>\n",
       "      <th>4</th>\n",
       "      <td>Server</td>\n",
       "      <td>927226.0</td>\n",
       "    </tr>\n",
       "    <tr>\n",
       "      <th>5</th>\n",
       "      <td>sql</td>\n",
       "      <td>45013088.0</td>\n",
       "    </tr>\n",
       "    <tr>\n",
       "      <th>6</th>\n",
       "      <td>porsche</td>\n",
       "      <td>13899.0</td>\n",
       "    </tr>\n",
       "    <tr>\n",
       "      <th>7</th>\n",
       "      <td>oracle</td>\n",
       "      <td>14487515.0</td>\n",
       "    </tr>\n",
       "    <tr>\n",
       "      <th>8</th>\n",
       "      <td>editorial</td>\n",
       "      <td>5984681.0</td>\n",
       "    </tr>\n",
       "    <tr>\n",
       "      <th>9</th>\n",
       "      <td>linux</td>\n",
       "      <td>25225416.0</td>\n",
       "    </tr>\n",
       "  </tbody>\n",
       "</table>\n",
       "</div>"
      ],
      "text/plain": [
       "                  A           B\n",
       "0         PROMOTORA      2602.0\n",
       "1           Becario    100801.0\n",
       "2           Docente    541248.0\n",
       "3  Editorial Intern     93185.0\n",
       "4            Server    927226.0\n",
       "5               sql  45013088.0\n",
       "6           porsche     13899.0\n",
       "7            oracle  14487515.0\n",
       "8         editorial   5984681.0\n",
       "9             linux  25225416.0"
      ]
     },
     "execution_count": 25,
     "metadata": {},
     "output_type": "execute_result"
    }
   ],
   "source": [
    "merge_two_list = pd.concat([selected_cols_file1, selected_cols_file2], ignore_index=True)\n",
    "merge_two_list\n"
   ]
  },
  {
   "cell_type": "code",
   "execution_count": 27,
   "metadata": {},
   "outputs": [],
   "source": [
    "save_path = './'\n",
    "sp_list = np.array_split(merge_two_list, 3)"
   ]
  },
  {
   "cell_type": "code",
   "execution_count": 31,
   "metadata": {},
   "outputs": [
    {
     "name": "stdout",
     "output_type": "stream",
     "text": [
      "./tran_output00.parquet\n",
      "start translate split_file0 at time: 2023-11-22 16:54:40.236137\n",
      "检察官\n",
      "saved at time:2023-11-22 16:54:40.828884\n",
      "./tran_output01.parquet\n",
      "start translate split_file1 at time: 2023-11-22 16:54:40.836116\n",
      "服务器\n",
      "saved at time:2023-11-22 16:54:41.271669\n",
      "./tran_output02.parquet\n",
      "start translate split_file2 at time: 2023-11-22 16:54:41.276915\n",
      "甲骨文\n",
      "saved at time:2023-11-22 16:54:41.723341\n"
     ]
    }
   ],
   "source": [
    "for i, sp in enumerate(sp_list):\n",
    "    save_name = os.path.join(save_path, f'tran_output{i:0>2}.parquet')\n",
    "    if os.path.isfile(save_name):\n",
    "        continue\n",
    "    print(save_name)\n",
    "    print(f'start translate split_file{i} at time: {datetime.now()}')\n",
    "    A_merge = sp['A'].tolist()\n",
    "    all_trans = []\n",
    "    for id, A in enumerate(A_merge):\n",
    "        tran = translate(A)\n",
    "        if id % 1000 == 0:\n",
    "            print(tran)\n",
    "        all_trans.append(tran)\n",
    "    print(f'saved at time:{datetime.now()}')\n",
    "    sp['google_translated'] = all_trans\n",
    "    sp.to_parquet(save_name)\n",
    "    \n",
    "\n",
    "    "
   ]
  },
  {
   "cell_type": "code",
   "execution_count": 32,
   "metadata": {},
   "outputs": [
    {
     "data": {
      "text/html": [
       "<div>\n",
       "<style scoped>\n",
       "    .dataframe tbody tr th:only-of-type {\n",
       "        vertical-align: middle;\n",
       "    }\n",
       "\n",
       "    .dataframe tbody tr th {\n",
       "        vertical-align: top;\n",
       "    }\n",
       "\n",
       "    .dataframe thead th {\n",
       "        text-align: right;\n",
       "    }\n",
       "</style>\n",
       "<table border=\"1\" class=\"dataframe\">\n",
       "  <thead>\n",
       "    <tr style=\"text-align: right;\">\n",
       "      <th></th>\n",
       "      <th>A</th>\n",
       "      <th>B</th>\n",
       "      <th>google_translated</th>\n",
       "    </tr>\n",
       "  </thead>\n",
       "  <tbody>\n",
       "    <tr>\n",
       "      <th>0</th>\n",
       "      <td>PROMOTORA</td>\n",
       "      <td>2602.0</td>\n",
       "      <td>检察官</td>\n",
       "    </tr>\n",
       "    <tr>\n",
       "      <th>1</th>\n",
       "      <td>Becario</td>\n",
       "      <td>100801.0</td>\n",
       "      <td>学者</td>\n",
       "    </tr>\n",
       "    <tr>\n",
       "      <th>2</th>\n",
       "      <td>Docente</td>\n",
       "      <td>541248.0</td>\n",
       "      <td>老师</td>\n",
       "    </tr>\n",
       "    <tr>\n",
       "      <th>3</th>\n",
       "      <td>Editorial Intern</td>\n",
       "      <td>93185.0</td>\n",
       "      <td>编辑实习生</td>\n",
       "    </tr>\n",
       "  </tbody>\n",
       "</table>\n",
       "</div>"
      ],
      "text/plain": [
       "                  A         B google_translated\n",
       "0         PROMOTORA    2602.0               检察官\n",
       "1           Becario  100801.0                学者\n",
       "2           Docente  541248.0                老师\n",
       "3  Editorial Intern   93185.0             编辑实习生"
      ]
     },
     "execution_count": 32,
     "metadata": {},
     "output_type": "execute_result"
    }
   ],
   "source": [
    "i = pd.read_parquet('./tran_output00.parquet')\n",
    "i\n"
   ]
  }
 ],
 "metadata": {
  "kernelspec": {
   "display_name": "base",
   "language": "python",
   "name": "python3"
  },
  "language_info": {
   "codemirror_mode": {
    "name": "ipython",
    "version": 3
   },
   "file_extension": ".py",
   "mimetype": "text/x-python",
   "name": "python",
   "nbconvert_exporter": "python",
   "pygments_lexer": "ipython3",
   "version": "3.8.8"
  }
 },
 "nbformat": 4,
 "nbformat_minor": 2
}
